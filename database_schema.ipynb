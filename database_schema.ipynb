{
  "nbformat": 4,
  "nbformat_minor": 0,
  "metadata": {
    "colab": {
      "provenance": []
    },
    "kernelspec": {
      "name": "python3",
      "display_name": "Python 3"
    },
    "language_info": {
      "name": "python"
    }
  },
  "cells": [
    {
      "cell_type": "markdown",
      "source": [
        "# Creating the DB Schema\n",
        "\n",
        "This codes allows to create a json files for the different tables included in our database. This is a key part of the feature store creation as it defines the database.\n"
      ],
      "metadata": {
        "id": "F3HtTzkiri_b"
      }
    },
    {
      "cell_type": "code",
      "source": [
        "# create a json file -  DB schema definition\n",
        "def create_json_table_definition(size=250, model_identifier=\"WORD2VEC\"):\n",
        "  embedding_size = size\n",
        "  embedding_columns = ''\n",
        "  for i in range(1,embedding_size+1):\n",
        "    emb_num = f'\"embedding_{i}\":'\n",
        "    embedding_columns+='\\n'+emb_num+\"{\"+ f\"\"\"\n",
        "          \"description\": \"The {i}th element of the word2vec embedding\",\n",
        "          \"type\": \"number\" \"\"\" + \"}\"\n",
        "\n",
        "    json_string = f\"\"\"{{\n",
        "    \"$schema\": \"https://docs.google.com/document/d/1A2g_aEokLomuZd0MnDZ8LubEa8jFC9OP_6n5bPLEuL8/edit?usp=sharing\",\n",
        "    \"$id\": \"some unique id\",\n",
        "    \"title\": {model_identifier},\n",
        "    \"description\": \"A table containing the embeddings for clinical notes using the word2vec model\",\n",
        "    \"type\": \"object\",\n",
        "    \"properties\": {{\n",
        "      \"DocumentID\": {{\n",
        "        \"description\": \"The unique identifier for a document\",\n",
        "        \"type\": \"integer\"\n",
        "      }},\n",
        "      \"TransformID\": {{\n",
        "        \"description\": \"The unique identifier for the pipeline that extracted the embeddings\",\n",
        "        \"type\": \"integer\"\n",
        "      }},\n",
        "  \"\"\" + embedding_columns + \"\"\"  },\n",
        "    \"required\": [\"DocumentID\"]\n",
        "  }\"\"\"\n",
        "  return json_string\n"
      ],
      "metadata": {
        "id": "1JoZrB-YXZH0"
      },
      "execution_count": null,
      "outputs": []
    },
    {
      "cell_type": "code",
      "source": [
        "print (create_json_table_definition(size=250, model_identifier=\"WORD2VEC\")[0:1500])"
      ],
      "metadata": {
        "id": "B1sUYrHWliX8",
        "colab": {
          "base_uri": "https://localhost:8080/"
        },
        "outputId": "c1338dab-6613-4267-b7c9-92a67963752e"
      },
      "execution_count": null,
      "outputs": [
        {
          "output_type": "stream",
          "name": "stdout",
          "text": [
            "{\n",
            "    \"$schema\": \"https://docs.google.com/document/d/1A2g_aEokLomuZd0MnDZ8LubEa8jFC9OP_6n5bPLEuL8/edit?usp=sharing\",\n",
            "    \"$id\": \"some unique id\",\n",
            "    \"title\": WORD2VEC,\n",
            "    \"description\": \"A table containing the embeddings for clinical notes using the word2vec model\",\n",
            "    \"type\": \"object\",\n",
            "    \"properties\": {\n",
            "      \"DocumentID\": {\n",
            "        \"description\": \"The unique identifier for a document\",\n",
            "        \"type\": \"integer\"\n",
            "      },\n",
            "      \"TransformID\": {\n",
            "        \"description\": \"The unique identifier for the pipeline that extracted the embeddings\",\n",
            "        \"type\": \"integer\"\n",
            "      },\n",
            "  \n",
            "\"embedding_1\":{\n",
            "          \"description\": \"The 1th element of the word2vec embedding\",\n",
            "          \"type\": \"number\" }\n",
            "\"embedding_2\":{\n",
            "          \"description\": \"The 2th element of the word2vec embedding\",\n",
            "          \"type\": \"number\" }\n",
            "\"embedding_3\":{\n",
            "          \"description\": \"The 3th element of the word2vec embedding\",\n",
            "          \"type\": \"number\" }\n",
            "\"embedding_4\":{\n",
            "          \"description\": \"The 4th element of the word2vec embedding\",\n",
            "          \"type\": \"number\" }\n",
            "\"embedding_5\":{\n",
            "          \"description\": \"The 5th element of the word2vec embedding\",\n",
            "          \"type\": \"number\" }\n",
            "\"embedding_6\":{\n",
            "          \"description\": \"The 6th element of the word2vec embedding\",\n",
            "          \"type\": \"number\" }\n",
            "\"embedding_7\":{\n",
            "          \"description\": \"The 7th element of the word2vec embedding\",\n",
            "          \"type\": \"number\" }\n",
            "\"embedding_8\":{\n",
            "          \"description\": \"The 8th element of the word2vec embedding\",\n",
            "          \"type\": \"num\n"
          ]
        }
      ]
    },
    {
      "cell_type": "code",
      "source": [
        "# json definition for transformation metadata:\n",
        "{\n",
        "    \"$schema\": \"https://docs.google.com/document/d/1A2g_aEokLomuZd0MnDZ8LubEa8jFC9OP_6n5bPLEuL8/edit?usp=sharing\",\n",
        "    \"$id\": \"some unique id for this table\",\n",
        "    \"title\": \"pipeline_metadata\",\n",
        "    \"description\": \"A table containing custom metadata for the pipeline that ran and computed the feautres\",\n",
        "    \"type\": \"object\",\n",
        "    \"properties\": {\n",
        "    \"TransformID\": {\n",
        "        \"description\": \"The unique identifier for the pipeline that extracted the embeddings\",\n",
        "        \"type\": \"integer\"\n",
        "      },\n",
        "    \"Datetime\": {\n",
        "        \"type\": \"string\",\n",
        "        \"pattern\": \"^[1-9]{4}-[0-1][0-9]-[0-3][0-9] \\d{2}:\\d{2}:\\d{2}$\",\n",
        "        \"example\": \"1990-01-01 12:35:45\"\n",
        "\n",
        "     },\n",
        "    \"Type\": {\n",
        "    \"type\": \"string\",\n",
        "    \"Description\": \"This column mentions the type of embeddings created using that pipeline\",\n",
        "    \"example\": \"Word2Vec\"\n",
        "\n",
        "    }, \n",
        "    \"ClusterID\": {\n",
        "    \"description\": \"The unique identifier of the cloud compute on which this ran\",\n",
        "    \"type\": \"integer\"\n",
        "  } \n",
        "    }\n",
        "}"
      ],
      "metadata": {
        "id": "-r4JFn7qkXBX"
      },
      "execution_count": null,
      "outputs": []
    }
  ]
}