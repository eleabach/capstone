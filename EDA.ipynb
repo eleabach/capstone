{
  "cells": [
    {
      "cell_type": "markdown",
      "metadata": {
        "id": "BVEo_o6UtmZ0"
      },
      "source": [
        "This is the EDA notebook for the MIMIC-III dataset, the summary of these findings will be found here : https://docs.google.com/document/d/1ZjDQ9wB8KuJkA-l58zpXj9fJ3q7fIgcHs_jye2gbOdc/edit#"
      ]
    },
    {
      "cell_type": "code",
      "execution_count": null,
      "metadata": {
        "id": "lEUJ5RbOM1T1"
      },
      "outputs": [],
      "source": [
        "import pandas as pd\n",
        "import numpy as np\n",
        "import matplotlib.pyplot as plt"
      ]
    },
    {
      "cell_type": "code",
      "execution_count": null,
      "metadata": {
        "id": "AJ-vRiw2KzaI"
      },
      "outputs": [],
      "source": [
        "from google.colab import drive\n",
        "drive.mount('/content/drive')\n",
        "data_dir = \"/content/drive/MyDrive/Capstone/MIMIC/\""
      ]
    },
    {
      "cell_type": "code",
      "execution_count": null,
      "metadata": {
        "id": "QPNNwv9mMyR_"
      },
      "outputs": [],
      "source": [
        "admissions = pd.read_csv(data_dir + \"ADMISSIONS.csv\")\n",
        "notes = pd.read_csv(data_dir + \"NOTEEVENTS.csv\")"
      ]
    },
    {
      "cell_type": "markdown",
      "metadata": {
        "id": "WChYgvzXrOhu"
      },
      "source": [
        "## Exploring number of notes and categories"
      ]
    },
    {
      "cell_type": "code",
      "execution_count": null,
      "metadata": {
        "id": "pl_e8pHAjASS"
      },
      "outputs": [],
      "source": [
        "categories = notes.CATEGORY.value_counts()/notes.shape[0]"
      ]
    },
    {
      "cell_type": "code",
      "execution_count": null,
      "metadata": {
        "id": "VF_FY6R9jcfs"
      },
      "outputs": [],
      "source": [
        "categories.plot(kind='bar', title = 'Distribution of Note categories', xlabel = \"Category\", ylabel = \"Percentage of notes\")"
      ]
    },
    {
      "cell_type": "code",
      "execution_count": null,
      "metadata": {
        "id": "HbNZjuEB43dD"
      },
      "outputs": [],
      "source": [
        "categories = notes.CATEGORY.value_counts()\n",
        "categories[0:10].plot.pie(figsize=(11, 11), textprops={'fontsize': 15})"
      ]
    },
    {
      "cell_type": "code",
      "execution_count": null,
      "metadata": {
        "id": "qaqGKEKsjvhU"
      },
      "outputs": [],
      "source": [
        "notes.DESCRIPTION.unique().shape"
      ]
    },
    {
      "cell_type": "code",
      "execution_count": null,
      "metadata": {
        "id": "oeq11iVHjGr1"
      },
      "outputs": [],
      "source": [
        "descriptions = notes.DESCRIPTION.value_counts()[0:15]/notes.shape[0]"
      ]
    },
    {
      "cell_type": "code",
      "execution_count": null,
      "metadata": {
        "id": "Csg69MJNjNJp"
      },
      "outputs": [],
      "source": [
        "descriptions.plot(kind='bar', title = 'Distribution of Note Description', xlabel = \"Description\", ylabel = \"Percentage of notes\")"
      ]
    },
    {
      "cell_type": "code",
      "execution_count": null,
      "metadata": {
        "id": "hCj7J4wH5RCg"
      },
      "outputs": [],
      "source": [
        "descriptions = notes.DESCRIPTION.value_counts()[0:10]\n",
        "descriptions.plot.pie(figsize=(11, 11))"
      ]
    },
    {
      "cell_type": "code",
      "execution_count": null,
      "metadata": {
        "id": "JRTF8uu6m4oz"
      },
      "outputs": [],
      "source": [
        "notes.SUBJECT_ID.unique().shape"
      ]
    },
    {
      "cell_type": "code",
      "execution_count": null,
      "metadata": {
        "id": "1hmNyJhUm94s"
      },
      "outputs": [],
      "source": [
        "#average number of notes per patient\n",
        "notes.shape[0]/notes.SUBJECT_ID.unique().shape[0]"
      ]
    },
    {
      "cell_type": "code",
      "execution_count": null,
      "metadata": {
        "id": "QP7lN-D-nDHB"
      },
      "outputs": [],
      "source": [
        "notes.HADM_ID.unique().shape"
      ]
    },
    {
      "cell_type": "code",
      "execution_count": null,
      "metadata": {
        "id": "-6kjlKjpnKmH"
      },
      "outputs": [],
      "source": [
        "#average number of notes per admission (some patients have multiple admissions)\n",
        "notes.shape[0]/notes.HADM_ID.unique().shape[0]"
      ]
    },
    {
      "cell_type": "code",
      "execution_count": null,
      "metadata": {
        "id": "GF1o5Gm1n6Re"
      },
      "outputs": [],
      "source": [
        "categories = notes.CATEGORY.value_counts()"
      ]
    },
    {
      "cell_type": "code",
      "execution_count": null,
      "metadata": {
        "id": "aVcJXTpWofwI"
      },
      "outputs": [],
      "source": [
        "#average number of notes from each cat per patient\n",
        "categories/notes.SUBJECT_ID.unique().shape[0]"
      ]
    },
    {
      "cell_type": "code",
      "execution_count": null,
      "metadata": {
        "id": "-pX9OuOGog_6"
      },
      "outputs": [],
      "source": [
        "#average number of notes from each cat per admission\n",
        "categories/notes.HADM_ID.unique().shape[0]"
      ]
    },
    {
      "cell_type": "code",
      "execution_count": null,
      "metadata": {
        "id": "S_Xd7qxHpEjO"
      },
      "outputs": [],
      "source": [
        "a = categories/notes.HADM_ID.unique().shape[0]\n",
        "a.plot(kind='bar', title = 'Average number of notes from each category per admission', xlabel = \"category\", ylabel = \"# of notes\")"
      ]
    },
    {
      "cell_type": "code",
      "execution_count": null,
      "metadata": {
        "id": "TJdl3fAnpVgo"
      },
      "outputs": [],
      "source": [
        "b = categories/notes.SUBJECT_ID.unique().shape[0]\n",
        "b.plot(kind='bar', title = 'Average number of notes from each category per admission', xlabel = \"category\", ylabel = \"# of notes\")"
      ]
    },
    {
      "cell_type": "code",
      "source": [
        "plt.figure(figsize = (15,10))\n",
        "\n",
        "X = a.index.to_list()\n",
        "\n",
        "X_axis = np.arange(len(X))\n",
        "  \n",
        "plt.bar(X_axis - 0.2, a, 0.4, label = 'per admission')\n",
        "plt.bar(X_axis + 0.2, b, 0.4, label = 'per subject')\n",
        "  \n",
        "plt.xticks(X_axis, X, rotation='vertical')\n",
        "plt.xlabel(\"Categories\")\n",
        "plt.ylabel(\"Number of notes\")\n",
        "plt.title(\"Average number of notes from each category\")\n",
        "plt.legend()\n",
        "plt.show()"
      ],
      "metadata": {
        "id": "H21rhReVPMpH"
      },
      "execution_count": null,
      "outputs": []
    },
    {
      "cell_type": "code",
      "execution_count": null,
      "metadata": {
        "id": "rDRCg4gwpalR"
      },
      "outputs": [],
      "source": [
        "notes[[\"SUBJECT_ID\", \"HADM_ID\", \"CATEGORY\"]].value_counts()"
      ]
    },
    {
      "cell_type": "code",
      "execution_count": null,
      "metadata": {
        "id": "tCWMBM-6qgK4"
      },
      "outputs": [],
      "source": [
        "notes[notes.SUBJECT_ID == 6975]"
      ]
    },
    {
      "cell_type": "code",
      "execution_count": null,
      "metadata": {
        "id": "fWkP9dY-1tKw"
      },
      "outputs": [],
      "source": [
        "print(notes[notes.SUBJECT_ID == 6975][notes.CATEGORY == 'Discharge summary'].iloc[0].TEXT)"
      ]
    },
    {
      "cell_type": "code",
      "execution_count": null,
      "metadata": {
        "id": "BcDumZmCsDQs"
      },
      "outputs": [],
      "source": [
        "notes[[\"SUBJECT_ID\", \"HADM_ID\", \"CATEGORY\"]].value_counts()"
      ]
    },
    {
      "cell_type": "code",
      "execution_count": null,
      "metadata": {
        "id": "sZuiFk5Qrzd2"
      },
      "outputs": [],
      "source": [
        "notes_bis = notes.copy()\n",
        "notes_bis[\"count\"]=1"
      ]
    },
    {
      "cell_type": "code",
      "execution_count": null,
      "metadata": {
        "id": "CuYSG1FR0aJV"
      },
      "outputs": [],
      "source": [
        "counts_patients = notes_bis.groupby(\"SUBJECT_ID\").sum()[\"count\"]"
      ]
    },
    {
      "cell_type": "code",
      "execution_count": null,
      "metadata": {
        "id": "6Bk_ODHu0y5x"
      },
      "outputs": [],
      "source": [
        "counts_patients.describe()"
      ]
    },
    {
      "cell_type": "code",
      "execution_count": null,
      "metadata": {
        "id": "aOsQ_dms004l"
      },
      "outputs": [],
      "source": [
        "plt.hist(counts_patients, bins = 20)\n",
        "plt.title(\"Distribution of number of documents per subject\")\n",
        "plt.show()"
      ]
    },
    {
      "cell_type": "code",
      "execution_count": null,
      "metadata": {
        "id": "YzpA9V-S1eTz"
      },
      "outputs": [],
      "source": [
        "counts_adm = notes_bis.groupby(\"HADM_ID\").sum()[\"count\"]\n",
        "plt.hist(counts_adm, bins = 20)\n",
        "plt.title(\"Distribution of number of documents per admission\")\n",
        "plt.show()"
      ]
    },
    {
      "cell_type": "code",
      "execution_count": null,
      "metadata": {
        "id": "19bNAFnL2Pi_"
      },
      "outputs": [],
      "source": [
        "full = pd.merge(notes, admissions, on = 'HADM_ID' , how = 'outer')"
      ]
    },
    {
      "cell_type": "code",
      "execution_count": null,
      "metadata": {
        "id": "NVbvgq066k2K"
      },
      "outputs": [],
      "source": [
        "full.columns"
      ]
    },
    {
      "cell_type": "code",
      "execution_count": null,
      "metadata": {
        "id": "OEbQIpi07O--"
      },
      "outputs": [],
      "source": [
        "types = full.ADMISSION_TYPE.value_counts()\n",
        "types"
      ]
    },
    {
      "cell_type": "code",
      "execution_count": null,
      "metadata": {
        "id": "_pjb8pGH71c_"
      },
      "outputs": [],
      "source": [
        "#mean number of notes per admission type\n",
        "full[[\"HADM_ID\", \"ADMISSION_TYPE\"]].value_counts().groupby(\"ADMISSION_TYPE\").mean()"
      ]
    },
    {
      "cell_type": "code",
      "execution_count": null,
      "metadata": {
        "id": "EeFSrBo38qHn"
      },
      "outputs": [],
      "source": [
        "a = full[[\"HADM_ID\", \"ADMISSION_TYPE\"]].value_counts().groupby(\"ADMISSION_TYPE\").mean()\n",
        "a.plot(kind='bar', title = 'Average number of notes per adm type', xlabel = \"Type\", ylabel = \"# of notes\")"
      ]
    },
    {
      "cell_type": "code",
      "execution_count": null,
      "metadata": {
        "id": "xu926zoQ8Fqk"
      },
      "outputs": [],
      "source": [
        "full[[\"HADM_ID\", \"ADMISSION_LOCATION\"]].value_counts().groupby(\"ADMISSION_LOCATION\").mean()"
      ]
    },
    {
      "cell_type": "code",
      "execution_count": null,
      "metadata": {
        "id": "oM-6Nd_f8-jz"
      },
      "outputs": [],
      "source": [
        "a = full[[\"HADM_ID\", \"ADMISSION_LOCATION\"]].value_counts().groupby(\"ADMISSION_LOCATION\").mean()\n",
        "a.plot(kind='bar', title = 'Average number of notes per adm loc', xlabel = \"Location\", ylabel = \"# of notes\")"
      ]
    },
    {
      "cell_type": "markdown",
      "metadata": {
        "id": "cCTnJADsqge6"
      },
      "source": [
        "Potential resources : https://notebook.community/MIT-LCP/mimic-code/tutorials/data_viz/01_data_viz_basic"
      ]
    },
    {
      "cell_type": "markdown",
      "metadata": {
        "id": "O3grBa4HrUKE"
      },
      "source": [
        "## Exploring text features"
      ]
    },
    {
      "cell_type": "code",
      "execution_count": null,
      "metadata": {
        "id": "F3d-5VrspwQp"
      },
      "outputs": [],
      "source": [
        "pip install wordcloud"
      ]
    },
    {
      "cell_type": "code",
      "execution_count": null,
      "metadata": {
        "id": "1TIps3xKCPzN"
      },
      "outputs": [],
      "source": [
        "import wordcloud"
      ]
    },
    {
      "cell_type": "code",
      "execution_count": null,
      "metadata": {
        "id": "dKBBLFJrBNGR"
      },
      "outputs": [],
      "source": [
        "# Read the whole text.\n",
        "text = notes.iloc[np.random.randint(2083180,size = 20000)].TEXT.sum()\n",
        "\n",
        "# Generate a word cloud image\n",
        "cloud = wordcloud.WordCloud().generate(text)"
      ]
    },
    {
      "cell_type": "code",
      "execution_count": null,
      "metadata": {
        "id": "z-7FsIKIBPE0"
      },
      "outputs": [],
      "source": [
        "plt.figure(figsize = (20,20))\n",
        "plt.imshow(cloud, interpolation='bilinear')\n",
        "plt.axis(\"off\")\n",
        "plt.show()"
      ]
    },
    {
      "cell_type": "code",
      "source": [
        "notes[notes.HADM_ID.isnull()]"
      ],
      "metadata": {
        "id": "pu5lbJJytpRg"
      },
      "execution_count": null,
      "outputs": []
    },
    {
      "cell_type": "code",
      "source": [
        "notes[\"length\"] = notes['TEXT'].apply(lambda x : len(x))"
      ],
      "metadata": {
        "id": "t8E_blJGuEuT"
      },
      "execution_count": null,
      "outputs": []
    },
    {
      "cell_type": "code",
      "source": [
        "notes[\"words\"] = notes['TEXT'].apply(lambda x : len(x.split()))"
      ],
      "metadata": {
        "id": "McK7KqmQvZHT"
      },
      "execution_count": null,
      "outputs": []
    },
    {
      "cell_type": "code",
      "source": [
        "print(notes[notes.words < 500].TEXT.iloc[1])"
      ],
      "metadata": {
        "id": "NaZjmB_swLrZ"
      },
      "execution_count": null,
      "outputs": []
    },
    {
      "cell_type": "code",
      "source": [
        "plt.hist(notes.length, bins = 20)\n",
        "plt.title(\"Distribution of length\")\n",
        "plt.show()"
      ],
      "metadata": {
        "id": "03NrGNoUwOCx"
      },
      "execution_count": null,
      "outputs": []
    },
    {
      "cell_type": "code",
      "source": [
        "plt.hist(notes.words, bins = 20, log = True)\n",
        "plt.title(\"Distribution of number of tokens, log scale\")\n",
        "plt.show()"
      ],
      "metadata": {
        "id": "BXzgTRbOypr-"
      },
      "execution_count": null,
      "outputs": []
    },
    {
      "cell_type": "code",
      "source": [
        "plt.hist(notes.words, bins = 20)\n",
        "plt.title(\"Distribution of number of tokens\")\n",
        "plt.show()"
      ],
      "metadata": {
        "id": "kyF25rr72SJY"
      },
      "execution_count": null,
      "outputs": []
    },
    {
      "cell_type": "code",
      "source": [
        "notes.words.describe()"
      ],
      "metadata": {
        "id": "oEQef5nHyuE6"
      },
      "execution_count": null,
      "outputs": []
    },
    {
      "cell_type": "code",
      "source": [],
      "metadata": {
        "id": "IdTAtoRm3lrK"
      },
      "execution_count": null,
      "outputs": []
    }
  ],
  "metadata": {
    "colab": {
      "provenance": []
    },
    "kernelspec": {
      "display_name": "Python 3",
      "name": "python3"
    },
    "language_info": {
      "name": "python"
    }
  },
  "nbformat": 4,
  "nbformat_minor": 0
}